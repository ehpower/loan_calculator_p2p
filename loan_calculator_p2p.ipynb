{
 "cells": [
  {
   "cell_type": "markdown",
   "metadata": {},
   "source": [
    "The first step will be to create a dictionary in which each key will be a Lender and the values their different attributes\n"
   ]
  },
  {
   "cell_type": "code",
   "execution_count": 300,
   "metadata": {},
   "outputs": [
    {
     "data": {
      "text/plain": [
       "[]"
      ]
     },
     "execution_count": 300,
     "metadata": {},
     "output_type": "execute_result"
    }
   ],
   "source": [
    "import numpy as np\n",
    "import pandas as pd\n",
    "\n",
    "lender_info = []\n",
    "lender_info"
   ]
  },
  {
   "cell_type": "markdown",
   "metadata": {},
   "source": [
    "The second step will be to create a function that updates de diccionary and adds the new lenders that enter the market"
   ]
  },
  {
   "cell_type": "code",
   "execution_count": 301,
   "metadata": {},
   "outputs": [],
   "source": [
    "def lender(name, rate, cash):\n",
    "    lender_info.append([name, rate, cash])\n",
    "    return lender_info\n",
    "    "
   ]
  },
  {
   "cell_type": "markdown",
   "metadata": {},
   "source": [
    "apply the formula to the lenders that want to enter the market"
   ]
  },
  {
   "cell_type": "code",
   "execution_count": 302,
   "metadata": {},
   "outputs": [
    {
     "data": {
      "text/plain": [
       "[['Bob', 0.075, 640],\n",
       " ['Jane', 0.069, 480],\n",
       " ['Fred', 0.071, 520],\n",
       " ['Mary', 0.104, 170],\n",
       " ['John', 0.081, 320],\n",
       " ['Dave', 0.074, 140],\n",
       " ['Angela', 0.071, 60]]"
      ]
     },
     "execution_count": 302,
     "metadata": {},
     "output_type": "execute_result"
    }
   ],
   "source": [
    "lender(\"Bob\" , 0.075, 640)\n",
    "lender(\"Jane\" , 0.069, 480)\n",
    "lender(\"Fred\" , 0.071, 520)\n",
    "lender(\"Mary\" , 0.104, 170)\n",
    "lender(\"John\" , 0.081, 320)\n",
    "lender(\"Dave\" , 0.074, 140)\n",
    "lender(\"Angela\" , 0.071, 60)\n",
    "lender_info"
   ]
  },
  {
   "cell_type": "code",
   "execution_count": 303,
   "metadata": {},
   "outputs": [
    {
     "data": {
      "text/html": [
       "<div>\n",
       "<style scoped>\n",
       "    .dataframe tbody tr th:only-of-type {\n",
       "        vertical-align: middle;\n",
       "    }\n",
       "\n",
       "    .dataframe tbody tr th {\n",
       "        vertical-align: top;\n",
       "    }\n",
       "\n",
       "    .dataframe thead th {\n",
       "        text-align: right;\n",
       "    }\n",
       "</style>\n",
       "<table border=\"1\" class=\"dataframe\">\n",
       "  <thead>\n",
       "    <tr style=\"text-align: right;\">\n",
       "      <th></th>\n",
       "      <th>name</th>\n",
       "      <th>rate</th>\n",
       "      <th>cash_available</th>\n",
       "    </tr>\n",
       "  </thead>\n",
       "  <tbody>\n",
       "    <tr>\n",
       "      <th>0</th>\n",
       "      <td>Bob</td>\n",
       "      <td>0.075</td>\n",
       "      <td>640</td>\n",
       "    </tr>\n",
       "    <tr>\n",
       "      <th>1</th>\n",
       "      <td>Jane</td>\n",
       "      <td>0.069</td>\n",
       "      <td>480</td>\n",
       "    </tr>\n",
       "    <tr>\n",
       "      <th>2</th>\n",
       "      <td>Fred</td>\n",
       "      <td>0.071</td>\n",
       "      <td>520</td>\n",
       "    </tr>\n",
       "    <tr>\n",
       "      <th>3</th>\n",
       "      <td>Mary</td>\n",
       "      <td>0.104</td>\n",
       "      <td>170</td>\n",
       "    </tr>\n",
       "    <tr>\n",
       "      <th>4</th>\n",
       "      <td>John</td>\n",
       "      <td>0.081</td>\n",
       "      <td>320</td>\n",
       "    </tr>\n",
       "    <tr>\n",
       "      <th>5</th>\n",
       "      <td>Dave</td>\n",
       "      <td>0.074</td>\n",
       "      <td>140</td>\n",
       "    </tr>\n",
       "    <tr>\n",
       "      <th>6</th>\n",
       "      <td>Angela</td>\n",
       "      <td>0.071</td>\n",
       "      <td>60</td>\n",
       "    </tr>\n",
       "  </tbody>\n",
       "</table>\n",
       "</div>"
      ],
      "text/plain": [
       "     name   rate  cash_available\n",
       "0     Bob  0.075             640\n",
       "1    Jane  0.069             480\n",
       "2    Fred  0.071             520\n",
       "3    Mary  0.104             170\n",
       "4    John  0.081             320\n",
       "5    Dave  0.074             140\n",
       "6  Angela  0.071              60"
      ]
     },
     "execution_count": 303,
     "metadata": {},
     "output_type": "execute_result"
    }
   ],
   "source": [
    "dflender= pd.DataFrame(lender_info, columns=([\"name\", \"rate\", \"cash_available\"]))\n",
    "dflender"
   ]
  },
  {
   "cell_type": "markdown",
   "metadata": {},
   "source": [
    "The first step is to create sort the Dataframe by rate from lowest to highest. "
   ]
  },
  {
   "cell_type": "code",
   "execution_count": 347,
   "metadata": {},
   "outputs": [
    {
     "data": {
      "text/html": [
       "<div>\n",
       "<style scoped>\n",
       "    .dataframe tbody tr th:only-of-type {\n",
       "        vertical-align: middle;\n",
       "    }\n",
       "\n",
       "    .dataframe tbody tr th {\n",
       "        vertical-align: top;\n",
       "    }\n",
       "\n",
       "    .dataframe thead th {\n",
       "        text-align: right;\n",
       "    }\n",
       "</style>\n",
       "<table border=\"1\" class=\"dataframe\">\n",
       "  <thead>\n",
       "    <tr style=\"text-align: right;\">\n",
       "      <th></th>\n",
       "      <th>name</th>\n",
       "      <th>rate</th>\n",
       "      <th>cash_available</th>\n",
       "    </tr>\n",
       "  </thead>\n",
       "  <tbody>\n",
       "    <tr>\n",
       "      <th>0</th>\n",
       "      <td>Jane</td>\n",
       "      <td>0.069</td>\n",
       "      <td>480</td>\n",
       "    </tr>\n",
       "    <tr>\n",
       "      <th>1</th>\n",
       "      <td>Fred</td>\n",
       "      <td>0.071</td>\n",
       "      <td>520</td>\n",
       "    </tr>\n",
       "    <tr>\n",
       "      <th>2</th>\n",
       "      <td>Angela</td>\n",
       "      <td>0.071</td>\n",
       "      <td>60</td>\n",
       "    </tr>\n",
       "    <tr>\n",
       "      <th>3</th>\n",
       "      <td>Dave</td>\n",
       "      <td>0.074</td>\n",
       "      <td>140</td>\n",
       "    </tr>\n",
       "    <tr>\n",
       "      <th>4</th>\n",
       "      <td>Bob</td>\n",
       "      <td>0.075</td>\n",
       "      <td>640</td>\n",
       "    </tr>\n",
       "    <tr>\n",
       "      <th>5</th>\n",
       "      <td>John</td>\n",
       "      <td>0.081</td>\n",
       "      <td>320</td>\n",
       "    </tr>\n",
       "    <tr>\n",
       "      <th>6</th>\n",
       "      <td>Mary</td>\n",
       "      <td>0.104</td>\n",
       "      <td>170</td>\n",
       "    </tr>\n",
       "  </tbody>\n",
       "</table>\n",
       "</div>"
      ],
      "text/plain": [
       "     name   rate  cash_available\n",
       "0    Jane  0.069             480\n",
       "1    Fred  0.071             520\n",
       "2  Angela  0.071              60\n",
       "3    Dave  0.074             140\n",
       "4     Bob  0.075             640\n",
       "5    John  0.081             320\n",
       "6    Mary  0.104             170"
      ]
     },
     "execution_count": 347,
     "metadata": {},
     "output_type": "execute_result"
    }
   ],
   "source": [
    "def sort_dict():\n",
    "    return dflender.sort_values(by=\"rate\").reset_index(drop=True).copy(deep=True)\n",
    "dflender = sort_dict()\n",
    "dflender\n"
   ]
  },
  {
   "cell_type": "markdown",
   "metadata": {},
   "source": [
    "The sort_dict function will do the sorting automatically every time we call it!"
   ]
  },
  {
   "cell_type": "code",
   "execution_count": 369,
   "metadata": {},
   "outputs": [
    {
     "data": {
      "text/plain": [
       "92.16"
      ]
     },
     "execution_count": 369,
     "metadata": {},
     "output_type": "execute_result"
    }
   ],
   "source": [
    "def borrow2(amount):\n",
    "    i = 0\n",
    "    cost_borrowing = []\n",
    "    while amount > 0:\n",
    "        if amount == dflender[\"cash_available\"][i]:\n",
    "            cost_borrowing.append(amount * dflender[\"rate\"][i])\n",
    "            amount -= dflender[\"cash_available\"][i]\n",
    "        elif amount < dflender[\"cash_available\"][i]:\n",
    "            cost_borrowing.append(amount * dflender[\"rate\"][i])\n",
    "            amount -= dflender[\"cash_available\"][i]\n",
    "        elif amount > dflender[\"cash_available\"][i]:\n",
    "            cost_borrowing.append((amount-(amount-dflender[\"cash_available\"][i])) * dflender[\"rate\"][i])\n",
    "            amount -= dflender[\"cash_available\"][i]\n",
    "        i = i+1\n",
    "        \n",
    "    return(np.sum(cost_borrowing))\n",
    "borrow2(1300)"
   ]
  },
  {
   "cell_type": "code",
   "execution_count": 192,
   "metadata": {},
   "outputs": [],
   "source": [
    "def borrow(amount):\n",
    "    lowest_rate = 1\n",
    "    cost_of_borrowing = 0\n",
    "    name = \"\"\n",
    "    for a in lender_info.values():\n",
    "        if a[0] < lowest_rate:\n",
    "            lowest_rate =  float(a[0])\n",
    "    for n,d in lender_info.items():\n",
    "        name = d\n",
    "        quantity = d[1] \n",
    "        rate = d[0]\n",
    "        if rate == lowest_rate and (amount == quantity):\n",
    "            cost_of_borrowing += amount*rate\n",
    "        elif rate == lowest_rate and (amount < quantity):\n",
    "            lender_info[name] = [rate , (quantity - amount)]\n",
    "            cost_of_borrowing += amount*rate\n",
    "            \n",
    "        \n",
    "    return(cost_of_borrowing)   "
   ]
  },
  {
   "cell_type": "code",
   "execution_count": 323,
   "metadata": {},
   "outputs": [
    {
     "data": {
      "text/plain": [
       "0.069"
      ]
     },
     "execution_count": 323,
     "metadata": {},
     "output_type": "execute_result"
    }
   ],
   "source": [
    "dflender.iloc[0,1]"
   ]
  },
  {
   "cell_type": "code",
   "execution_count": 330,
   "metadata": {},
   "outputs": [
    {
     "data": {
      "text/plain": [
       "0.069"
      ]
     },
     "execution_count": 330,
     "metadata": {},
     "output_type": "execute_result"
    }
   ],
   "source": [
    "dflender[\"rate\"][0]"
   ]
  },
  {
   "cell_type": "code",
   "execution_count": 335,
   "metadata": {},
   "outputs": [
    {
     "data": {
      "text/plain": [
       "0    480\n",
       "1    520\n",
       "2     60\n",
       "3    140\n",
       "4    640\n",
       "5    320\n",
       "6    170\n",
       "Name: cash_available, dtype: int64"
      ]
     },
     "execution_count": 335,
     "metadata": {},
     "output_type": "execute_result"
    }
   ],
   "source": [
    "dflender[\"cash_available\"]"
   ]
  },
  {
   "cell_type": "code",
   "execution_count": 337,
   "metadata": {},
   "outputs": [
    {
     "data": {
      "text/plain": [
       "0    480\n",
       "1    520\n",
       "2     60\n",
       "3    140\n",
       "4    640\n",
       "5    320\n",
       "6    170\n",
       "Name: cash_available, dtype: int64"
      ]
     },
     "execution_count": 337,
     "metadata": {},
     "output_type": "execute_result"
    }
   ],
   "source": [
    "dflender[\"cash_available\"]"
   ]
  },
  {
   "cell_type": "code",
   "execution_count": null,
   "metadata": {},
   "outputs": [],
   "source": []
  }
 ],
 "metadata": {
  "kernelspec": {
   "display_name": "Python 3",
   "language": "python",
   "name": "python3"
  },
  "language_info": {
   "codemirror_mode": {
    "name": "ipython",
    "version": 3
   },
   "file_extension": ".py",
   "mimetype": "text/x-python",
   "name": "python",
   "nbconvert_exporter": "python",
   "pygments_lexer": "ipython3",
   "version": "3.8.3"
  }
 },
 "nbformat": 4,
 "nbformat_minor": 4
}
