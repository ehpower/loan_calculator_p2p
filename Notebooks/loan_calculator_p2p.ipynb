{
 "cells": [
  {
   "cell_type": "markdown",
   "metadata": {},
   "source": [
    "The first step will be to create a dictionary in which each key will be a Lender and the values their different attributes\n"
   ]
  },
  {
   "cell_type": "code",
   "execution_count": 97,
   "metadata": {},
   "outputs": [],
   "source": [
    "import numpy as np\n",
    "import pandas as pd\n",
    "\n",
    "import sys\n",
    "sys.path.append(\"../\")"
   ]
  },
  {
   "cell_type": "code",
   "execution_count": 98,
   "metadata": {},
   "outputs": [
    {
     "data": {
      "text/plain": [
       "92.16"
      ]
     },
     "execution_count": 98,
     "metadata": {},
     "output_type": "execute_result"
    }
   ],
   "source": [
    "from LoanCalculatorP2P.LoanCalculator import borrow\n",
    "borrow(1300)"
   ]
  },
  {
   "cell_type": "markdown",
   "metadata": {},
   "source": [
    "The second step will be to create a function that updates de diccionary and adds the new lenders that enter the market"
   ]
  },
  {
   "cell_type": "code",
   "execution_count": 292,
   "metadata": {},
   "outputs": [
    {
     "data": {
      "text/html": [
       "<div>\n",
       "<style scoped>\n",
       "    .dataframe tbody tr th:only-of-type {\n",
       "        vertical-align: middle;\n",
       "    }\n",
       "\n",
       "    .dataframe tbody tr th {\n",
       "        vertical-align: top;\n",
       "    }\n",
       "\n",
       "    .dataframe thead th {\n",
       "        text-align: right;\n",
       "    }\n",
       "</style>\n",
       "<table border=\"1\" class=\"dataframe\">\n",
       "  <thead>\n",
       "    <tr style=\"text-align: right;\">\n",
       "      <th></th>\n",
       "      <th>Lender</th>\n",
       "      <th>Rate</th>\n",
       "      <th>Available</th>\n",
       "    </tr>\n",
       "  </thead>\n",
       "  <tbody>\n",
       "    <tr>\n",
       "      <th>0</th>\n",
       "      <td>Jane</td>\n",
       "      <td>0.069</td>\n",
       "      <td>480</td>\n",
       "    </tr>\n",
       "    <tr>\n",
       "      <th>2</th>\n",
       "      <td>Angela</td>\n",
       "      <td>0.071</td>\n",
       "      <td>60</td>\n",
       "    </tr>\n",
       "    <tr>\n",
       "      <th>3</th>\n",
       "      <td>Dave</td>\n",
       "      <td>0.074</td>\n",
       "      <td>140</td>\n",
       "    </tr>\n",
       "    <tr>\n",
       "      <th>4</th>\n",
       "      <td>Bob</td>\n",
       "      <td>0.075</td>\n",
       "      <td>640</td>\n",
       "    </tr>\n",
       "    <tr>\n",
       "      <th>5</th>\n",
       "      <td>John</td>\n",
       "      <td>0.081</td>\n",
       "      <td>320</td>\n",
       "    </tr>\n",
       "    <tr>\n",
       "      <th>6</th>\n",
       "      <td>Mary</td>\n",
       "      <td>0.104</td>\n",
       "      <td>170</td>\n",
       "    </tr>\n",
       "  </tbody>\n",
       "</table>\n",
       "</div>"
      ],
      "text/plain": [
       "   Lender   Rate  Available\n",
       "0    Jane  0.069        480\n",
       "2  Angela  0.071         60\n",
       "3    Dave  0.074        140\n",
       "4     Bob  0.075        640\n",
       "5    John  0.081        320\n",
       "6    Mary  0.104        170"
      ]
     },
     "execution_count": 292,
     "metadata": {},
     "output_type": "execute_result"
    }
   ],
   "source": [
    "dflender = pd.read_csv(\"../DATA/market_ex.csv\", sep = \",\")\n",
    "dflender = dflender.sort_values(by=\"Rate\").reset_index(drop=True).copy(deep=True)\n",
    "dflender.drop([1])   "
   ]
  },
  {
   "cell_type": "markdown",
   "metadata": {},
   "source": [
    "apply the formula to the lenders that want to enter the market"
   ]
  },
  {
   "cell_type": "markdown",
   "metadata": {},
   "source": [
    "The first step is to create sort the Dataframe by rate from lowest to highest. "
   ]
  },
  {
   "cell_type": "code",
   "execution_count": 431,
   "metadata": {},
   "outputs": [],
   "source": [
    "def borrow(amount, update = True):\n",
    "    i = 0\n",
    "    initial_amount = amount\n",
    "    dflender = pd.read_csv(\"../DATA/market_ex.csv\", sep = \",\")\n",
    "    dflender = dflender.sort_values(by=\"Rate\").reset_index(drop=True).copy(deep=True)\n",
    "    requested_amount = 0\n",
    "    number_borrowers = 0\n",
    "    ponderated_rate = 0\n",
    "    cost_borrowing = []\n",
    "    if (amount > 15000) or (amount < 100):\n",
    "        return \"Quantity not accepted\"\n",
    "    elif amount > dflender[\"Available\"].sum():\n",
    "        return \"Insufficient funds\"\n",
    "    elif update == False:\n",
    "        while amount > 0:\n",
    "            if amount == dflender[\"Available\"][i]:\n",
    "                requested_amount += dflender[\"Available\"][i]\n",
    "                amount -= dflender[\"Available\"][i]\n",
    "                ponderated_rate += dflender[\"Rate\"][i]*dflender[\"Available\"][i]\n",
    "                number_borrowers +=1\n",
    "            elif amount > dflender[\"Available\"][i]:\n",
    "                requested_amount += dflender[\"Available\"][i]\n",
    "                amount -= dflender[\"Available\"][i]\n",
    "                ponderated_rate += dflender[\"Rate\"][i]*dflender[\"Available\"][i]\n",
    "                number_borrowers +=1\n",
    "            elif amount < dflender[\"Available\"][i]:\n",
    "                requested_amount += amount\n",
    "                ponderated_rate += dflender[\"Rate\"][i] * amount\n",
    "                amount -= dflender[\"Available\"][i]                \n",
    "                number_borrowers +=1\n",
    "            i = i+1\n",
    "    \n",
    "        requested = requested_amount\n",
    "        interest = ponderated_rate/initial_amount\n",
    "        total_interest = requested+(requested*(interest*(((1+interest)**36))/(((1+interest)**36)-1)))\n",
    "        compound = 1 + interest\n",
    "        returna = \"Requested Amount : {}\".format(requested_amount)\n",
    "        returnb = \"Rate:  {:.1f}%\".format(interest*100)\n",
    "        returnc = \"Monthly Repaiments: {:.2f}\".format(((requested*(interest*(((1+interest)**36)))/(((1+interest)**36)-1))))\n",
    "        returnd = \"Total Repaiments: {}\".format((requested+(requested*(interest*(((1+interest)**36))/(((1+interest)**36)-1)))))\n",
    "                                                   \n",
    "        print(returna) \n",
    "        print(returnb) \n",
    "        print(returnc) \n",
    "        print(returnd)\n",
    "    #This section returns the information necessary for the borrower. \n",
    "    #Now we will update the dataframe so that the lenders are removed from the DF.\n",
    "    elif update == True:\n",
    "        while amount > 0:\n",
    "            if amount == dflender[\"Available\"][i]:\n",
    "                requested_amount += dflender[\"Available\"][i]\n",
    "                amount -= dflender[\"Available\"][i]\n",
    "                ponderated_rate += dflender[\"Rate\"][i]*dflender[\"Available\"][i]\n",
    "                dflender[\"Available\"][i] = np.nan\n",
    "            elif amount > dflender[\"Available\"][i]:\n",
    "                requested_amount += dflender[\"Available\"][i]\n",
    "                amount -= dflender[\"Available\"][i]\n",
    "                ponderated_rate += dflender[\"Rate\"][i]*dflender[\"Available\"][i]\n",
    "                dflender[\"Available\"][i] = np.nan\n",
    "            elif amount < dflender[\"Available\"][i]:\n",
    "                requested_amount += amount\n",
    "                to_subtract = amount\n",
    "                ponderated_rate += dflender[\"Rate\"][i] * amount\n",
    "                amount -= dflender[\"Available\"][i]                \n",
    "                dflender[\"Available\"][i] = dflender[\"Available\"][i] - to_subtract\n",
    "            i = i+1\n",
    "    \n",
    "        requested = requested_amount\n",
    "        interest = ponderated_rate/initial_amount\n",
    "        total_interest = requested+(requested*(interest*(((1+interest)**36))/(((1+interest)**36)-1)))\n",
    "        compound = 1 + interest\n",
    "        dflender.dropna(inplace = True)\n",
    "        returna = \"Requested Amount : {}\".format(requested_amount)\n",
    "        returnb = \"Rate:  {:.1f}%\".format(interest*100)\n",
    "        returnc = \"Monthly Repaiments: {:.2f}\".format(((requested*(interest*(((1+interest)**36)))/(((1+interest)**36)-1))))\n",
    "        returnd = \"Total Repaiments: {}\".format((requested+(requested*(interest*(((1+interest)**36))/(((1+interest)**36)-1)))))\n",
    "        dflender.to_csv(\"../DATA/market_ex.csv\")                                           \n",
    "        print(returna) \n",
    "        print(returnb) \n",
    "        print(returnc) \n",
    "        print(returnd)\n",
    "        \n",
    "        \n",
    "    "
   ]
  },
  {
   "cell_type": "code",
   "execution_count": 455,
   "metadata": {},
   "outputs": [
    {
     "name": "stdout",
     "output_type": "stream",
     "text": [
      "Requested Amount : 1300.0\n",
      "Rate:  5.9%\n",
      "Monthly Repaiments: 87.53\n",
      "Total Repaiments: 1387.532765197731\n"
     ]
    },
    {
     "name": "stderr",
     "output_type": "stream",
     "text": [
      "<ipython-input-431-3f9bf7939b2f>:59: SettingWithCopyWarning: \n",
      "A value is trying to be set on a copy of a slice from a DataFrame\n",
      "\n",
      "See the caveats in the documentation: https://pandas.pydata.org/pandas-docs/stable/user_guide/indexing.html#returning-a-view-versus-a-copy\n",
      "  dflender[\"Available\"][i] = np.nan\n"
     ]
    }
   ],
   "source": [
    "borrow(1300, True)"
   ]
  },
  {
   "cell_type": "code",
   "execution_count": 454,
   "metadata": {},
   "outputs": [],
   "source": [
    "def Reload(x):\n",
    "    x = pd.read_csv(\"../DATA/market_example.csv\")\n",
    "    return x.to_csv(\"../DATA/market_ex.csv\")\n",
    "Reload(x)    \n",
    "    "
   ]
  },
  {
   "cell_type": "code",
   "execution_count": null,
   "metadata": {},
   "outputs": [],
   "source": []
  }
 ],
 "metadata": {
  "kernelspec": {
   "display_name": "Python 3",
   "language": "python",
   "name": "python3"
  },
  "language_info": {
   "codemirror_mode": {
    "name": "ipython",
    "version": 3
   },
   "file_extension": ".py",
   "mimetype": "text/x-python",
   "name": "python",
   "nbconvert_exporter": "python",
   "pygments_lexer": "ipython3",
   "version": "3.8.3"
  }
 },
 "nbformat": 4,
 "nbformat_minor": 4
}
