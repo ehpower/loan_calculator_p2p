{
 "cells": [
  {
   "cell_type": "markdown",
   "metadata": {},
   "source": [
    "The first step will be to create a dictionary in which each key will be a Lender and the values their different attributes\n"
   ]
  },
  {
   "cell_type": "code",
   "execution_count": 97,
   "metadata": {},
   "outputs": [],
   "source": [
    "import numpy as np\n",
    "import pandas as pd\n",
    "\n",
    "import sys\n",
    "sys.path.append(\"../\")"
   ]
  },
  {
   "cell_type": "code",
   "execution_count": 98,
   "metadata": {},
   "outputs": [
    {
     "data": {
      "text/plain": [
       "92.16"
      ]
     },
     "execution_count": 98,
     "metadata": {},
     "output_type": "execute_result"
    }
   ],
   "source": [
    "from LoanCalculatorP2P.LoanCalculator import borrow\n",
    "borrow(1300)"
   ]
  },
  {
   "cell_type": "markdown",
   "metadata": {},
   "source": [
    "The second step will be to create a function that updates de diccionary and adds the new lenders that enter the market"
   ]
  },
  {
   "cell_type": "code",
   "execution_count": null,
   "metadata": {},
   "outputs": [],
   "source": []
  },
  {
   "cell_type": "markdown",
   "metadata": {},
   "source": [
    "apply the formula to the lenders that want to enter the market"
   ]
  },
  {
   "cell_type": "markdown",
   "metadata": {},
   "source": [
    "The first step is to create sort the Dataframe by rate from lowest to highest. "
   ]
  },
  {
   "cell_type": "code",
   "execution_count": 480,
   "metadata": {},
   "outputs": [],
   "source": [
    "def borrow(amount, update = True):\n",
    "    i = 0\n",
    "    initial_amount = amount\n",
    "    dflender = pd.read_csv(\"../DATA/market_ex.csv\", sep = \",\")\n",
    "    dflender = dflender.sort_values(by=\"Rate\").reset_index(drop=True).copy(deep=True)\n",
    "    requested_amount = 0\n",
    "    number_borrowers = 0\n",
    "    ponderated_rate = 0\n",
    "    cost_borrowing = []\n",
    "    if (amount > 15000) or (amount < 100):\n",
    "        return \"Quantity not accepted\"\n",
    "    elif amount > dflender[\"Available\"].sum():\n",
    "        return \"Insufficient funds\"\n",
    "    elif update == False:\n",
    "        while amount > 0:\n",
    "            if amount == dflender[\"Available\"][i]:\n",
    "                requested_amount += dflender[\"Available\"][i]\n",
    "                amount -= dflender[\"Available\"][i]\n",
    "                ponderated_rate += dflender[\"Rate\"][i]*dflender[\"Available\"][i]\n",
    "                number_borrowers +=1\n",
    "            elif amount > dflender[\"Available\"][i]:\n",
    "                requested_amount += dflender[\"Available\"][i]\n",
    "                amount -= dflender[\"Available\"][i]\n",
    "                ponderated_rate += dflender[\"Rate\"][i]*dflender[\"Available\"][i]\n",
    "                number_borrowers +=1\n",
    "            elif amount < dflender[\"Available\"][i]:\n",
    "                requested_amount += amount\n",
    "                ponderated_rate += dflender[\"Rate\"][i] * amount\n",
    "                amount -= dflender[\"Available\"][i]                \n",
    "                number_borrowers +=1\n",
    "            i = i+1\n",
    "    \n",
    "        rate = ponderated_rate/initial_amount\n",
    "        interest_per_period = rate/12\n",
    "        denominador = ((1 + interest_per_period)**36)-1\n",
    "        payment_per_month = requested_amount*((interest_per_period*(1 + interest_per_period)**36)/denominador)\n",
    "        total_payment = payment_per_month*36\n",
    "        returna = \"Requested Amount : {}\".format(requested_amount)\n",
    "        returnb = \"Rate:  {:.1f}%\".format(rate*100)\n",
    "        returnc = \"Monthly Repaiments: {:.2f}\".format(payment_per_month)\n",
    "        returnd = \"Total Repaiments: {}\".format(total_payment)\n",
    "                                                   \n",
    "        print(returna) \n",
    "        print(returnb) \n",
    "        print(returnc) \n",
    "        print(returnd)\n",
    "    #This section returns the information necessary for the borrower. \n",
    "    #Now we will update the dataframe so that the lenders are removed from the DF.\n",
    "    elif update == True:\n",
    "        while amount > 0:\n",
    "            if amount == dflender[\"Available\"][i]:\n",
    "                requested_amount += dflender[\"Available\"][i]\n",
    "                amount -= dflender[\"Available\"][i]\n",
    "                ponderated_rate += dflender[\"Rate\"][i]*dflender[\"Available\"][i]\n",
    "                dflender[\"Available\"][i] = np.nan\n",
    "            elif amount > dflender[\"Available\"][i]:\n",
    "                requested_amount += dflender[\"Available\"][i]\n",
    "                amount -= dflender[\"Available\"][i]\n",
    "                ponderated_rate += dflender[\"Rate\"][i]*dflender[\"Available\"][i]\n",
    "                dflender[\"Available\"][i] = np.nan\n",
    "            elif amount < dflender[\"Available\"][i]:\n",
    "                requested_amount += amount\n",
    "                to_subtract = amount\n",
    "                ponderated_rate += dflender[\"Rate\"][i] * amount\n",
    "                amount -= dflender[\"Available\"][i]                \n",
    "                dflender[\"Available\"][i] = dflender[\"Available\"][i] - to_subtract\n",
    "            i = i+1\n",
    "    \n",
    "        rate = ponderated_rate/initial_amount\n",
    "        interest_per_period = rate/12\n",
    "        denominador = ((1 + interest_per_period)**36)-1\n",
    "        payment_per_month = requested_amount*((interest_per_period*(1 + interest_per_period)**36)/denominador)\n",
    "        total_payment = payment_per_month*36\n",
    "        returna = \"Requested Amount : {}\".format(requested_amount)\n",
    "        returnb = \"Rate:  {:.1f}%\".format(rate*100)\n",
    "        returnc = \"Monthly Repaiments: {:.2f}\".format(payment_per_month)\n",
    "        returnd = \"Total Repaiments: {}\".format(total_payment)\n",
    "        dflender.dropna(inplace = True)\n",
    "        dflender.to_csv(\"../DATA/market_ex.csv\")                                           \n",
    "        print(returna) \n",
    "        print(returnb) \n",
    "        print(returnc) \n",
    "        print(returnd)\n",
    "        \n",
    "        \n",
    "    "
   ]
  },
  {
   "cell_type": "code",
   "execution_count": 493,
   "metadata": {},
   "outputs": [
    {
     "data": {
      "text/plain": [
       "'Insufficient funds'"
      ]
     },
     "execution_count": 493,
     "metadata": {},
     "output_type": "execute_result"
    }
   ],
   "source": [
    "borrow(14999, True)"
   ]
  },
  {
   "cell_type": "code",
   "execution_count": 462,
   "metadata": {},
   "outputs": [],
   "source": [
    "def Reload(x):\n",
    "    x = pd.read_csv(\"../DATA/market_example.csv\")\n",
    "    return x.to_csv(\"../DATA/market_ex.csv\")\n",
    "Reload(x)    \n",
    "    "
   ]
  }
 ],
 "metadata": {
  "kernelspec": {
   "display_name": "Python 3",
   "language": "python",
   "name": "python3"
  },
  "language_info": {
   "codemirror_mode": {
    "name": "ipython",
    "version": 3
   },
   "file_extension": ".py",
   "mimetype": "text/x-python",
   "name": "python",
   "nbconvert_exporter": "python",
   "pygments_lexer": "ipython3",
   "version": "3.8.3"
  }
 },
 "nbformat": 4,
 "nbformat_minor": 4
}
