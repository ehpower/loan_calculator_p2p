{
 "cells": [
  {
   "cell_type": "markdown",
   "metadata": {},
   "source": [
    "The first step will be to create a dictionary in which each key will be a Lender and the values their different attributes\n"
   ]
  },
  {
   "cell_type": "code",
   "execution_count": 97,
   "metadata": {},
   "outputs": [],
   "source": [
    "import numpy as np\n",
    "import pandas as pd\n",
    "\n",
    "import sys\n",
    "sys.path.append(\"../\")"
   ]
  },
  {
   "cell_type": "code",
   "execution_count": 98,
   "metadata": {},
   "outputs": [
    {
     "data": {
      "text/plain": [
       "92.16"
      ]
     },
     "execution_count": 98,
     "metadata": {},
     "output_type": "execute_result"
    }
   ],
   "source": [
    "from LoanCalculatorP2P.LoanCalculator import borrow\n",
    "borrow(1300)"
   ]
  },
  {
   "cell_type": "markdown",
   "metadata": {},
   "source": [
    "The second step will be to create a function that updates de diccionary and adds the new lenders that enter the market"
   ]
  },
  {
   "cell_type": "code",
   "execution_count": null,
   "metadata": {},
   "outputs": [],
   "source": [
    "\n",
    "    "
   ]
  },
  {
   "cell_type": "markdown",
   "metadata": {},
   "source": [
    "apply the formula to the lenders that want to enter the market"
   ]
  },
  {
   "cell_type": "markdown",
   "metadata": {},
   "source": [
    "The first step is to create sort the Dataframe by rate from lowest to highest. "
   ]
  },
  {
   "cell_type": "code",
   "execution_count": 209,
   "metadata": {},
   "outputs": [],
   "source": [
    "def borrow(amount):\n",
    "    i = 0\n",
    "    initial_amount = amount\n",
    "    dflender = pd.read_csv(\"../DATA/market_ex.csv\", sep = \",\")\n",
    "    dflender = dflender.sort_values(by=\"Rate\").reset_index(drop=True).copy(deep=True)\n",
    "    cost_borrowing = []\n",
    "    if (amount > 15000) or (amount < 100):\n",
    "        return \"Quantity not accepted\"\n",
    "        \n",
    "    elif amount > dflender[\"Available\"].sum():\n",
    "        return \"insufficient funds\"\n",
    "    else:\n",
    "        while amount > 0:\n",
    "            if amount == dflender[\"Available\"][i]:\n",
    "                cost_borrowing.append(amount * dflender[\"Rate\"][i])\n",
    "                amount -= dflender[\"Available\"][i]\n",
    "            elif amount < dflender[\"Available\"][i]:\n",
    "                cost_borrowing.append(amount * dflender[\"Rate\"][i])\n",
    "                amount -= dflender[\"Available\"][i]\n",
    "            elif amount > dflender[\"Available\"][i]:\n",
    "                cost_borrowing.append((amount-(amount-dflender[\"Available\"][i])) * dflender[\"Rate\"][i])\n",
    "                amount -= dflender[\"Available\"][i]\n",
    "            i = i+1\n",
    "    requested = initial_amount\n",
    "    interest = ((np.sum(cost_borrowing))/initial_amount)\n",
    "    total_interest = requested+(requested*(interest*(((1+interest)**36))/(((1+interest)**36)-1)))\n",
    "    \n",
    "    compound = 1 + interest\n",
    "    returna = \"Requested Amount : {}\".format(requested)\n",
    "    returnb = \"Rate:  {:.1f}%\".format(interest*100)\n",
    "    returnc = \"Monthly Repaiments: {:.2f}\".format((total_interest)/36)\n",
    "    returnd = \"Total Repaiments: {}\".format(requested+(requested*(interest*(((1+interest)**36))/(((1+interest)**36)-1))))\n",
    "    \n",
    "    print(returna) \n",
    "    print(returnb) \n",
    "    print(returnc) \n",
    "    print(returnd)\n",
    "    #This section returns the information necessary for the borrower. \n",
    "    #Now we will update the dataframe so that the lenders are removed from the DF.\n",
    "    "
   ]
  },
  {
   "cell_type": "code",
   "execution_count": 210,
   "metadata": {},
   "outputs": [
    {
     "name": "stdout",
     "output_type": "stream",
     "text": [
      "Requested Amount : 1000\n",
      "Rate:  7.0%\n",
      "Monthly Repaiments: 29.91\n",
      "Total Repaiments: 1076.749245065917\n"
     ]
    }
   ],
   "source": [
    "borrow(1000)"
   ]
  },
  {
   "cell_type": "code",
   "execution_count": null,
   "metadata": {},
   "outputs": [],
   "source": []
  },
  {
   "cell_type": "code",
   "execution_count": 208,
   "metadata": {},
   "outputs": [],
   "source": [
    "x = pd.read_csv(\"../DATA/market_example.csv\", sep = \",\")"
   ]
  },
  {
   "cell_type": "code",
   "execution_count": 204,
   "metadata": {},
   "outputs": [
    {
     "data": {
      "text/plain": [
       "(105, 3)"
      ]
     },
     "execution_count": 204,
     "metadata": {},
     "output_type": "execute_result"
    }
   ],
   "source": [
    "x.shape"
   ]
  },
  {
   "cell_type": "code",
   "execution_count": null,
   "metadata": {},
   "outputs": [],
   "source": []
  }
 ],
 "metadata": {
  "kernelspec": {
   "display_name": "Python 3",
   "language": "python",
   "name": "python3"
  },
  "language_info": {
   "codemirror_mode": {
    "name": "ipython",
    "version": 3
   },
   "file_extension": ".py",
   "mimetype": "text/x-python",
   "name": "python",
   "nbconvert_exporter": "python",
   "pygments_lexer": "ipython3",
   "version": "3.8.3"
  }
 },
 "nbformat": 4,
 "nbformat_minor": 4
}
